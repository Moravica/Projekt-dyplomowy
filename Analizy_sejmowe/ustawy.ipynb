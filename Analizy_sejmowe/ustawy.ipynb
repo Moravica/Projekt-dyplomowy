{
 "cells": [
  {
   "cell_type": "code",
   "execution_count": 22,
   "metadata": {},
   "outputs": [],
   "source": [
    "import requests\n",
    "from bs4 import BeautifulSoup\n",
    "import pandas as pd\n",
    "import datetime\n",
    "import matplotlib.pyplot as plt\n",
    "import numpy as np\n",
    "import math\n",
    "from fpdf import FPDF\n",
    "import os\n",
    "from concurrent.futures import ThreadPoolExecutor"
   ]
  },
  {
   "cell_type": "code",
   "execution_count": 2,
   "metadata": {},
   "outputs": [
    {
     "ename": "FileNotFoundError",
     "evalue": "[Errno 2] No such file or directory: 'przekazana_zmienna.txt'",
     "output_type": "error",
     "traceback": [
      "\u001b[1;31m---------------------------------------------------------------------------\u001b[0m",
      "\u001b[1;31mFileNotFoundError\u001b[0m                         Traceback (most recent call last)",
      "Cell \u001b[1;32mIn[2], line 2\u001b[0m\n\u001b[0;32m      1\u001b[0m \u001b[38;5;66;03m# Odczytaj wartość zmiennej z pliku\u001b[39;00m\n\u001b[1;32m----> 2\u001b[0m \u001b[38;5;28;01mwith\u001b[39;00m \u001b[38;5;28;43mopen\u001b[39;49m\u001b[43m(\u001b[49m\u001b[38;5;124;43m'\u001b[39;49m\u001b[38;5;124;43mprzekazana_zmienna.txt\u001b[39;49m\u001b[38;5;124;43m'\u001b[39;49m\u001b[43m,\u001b[49m\u001b[43m \u001b[49m\u001b[38;5;124;43m'\u001b[39;49m\u001b[38;5;124;43mr\u001b[39;49m\u001b[38;5;124;43m'\u001b[39;49m\u001b[43m)\u001b[49m \u001b[38;5;28;01mas\u001b[39;00m f:\n\u001b[0;32m      3\u001b[0m     przekazana_zmienna \u001b[38;5;241m=\u001b[39m f\u001b[38;5;241m.\u001b[39mread()\n\u001b[0;32m      5\u001b[0m \u001b[38;5;66;03m# Zapisanie numeru kadencji do zmiennej\u001b[39;00m\n",
      "File \u001b[1;32mc:\\Users\\slowa\\AppData\\Local\\Programs\\Python\\Python311\\Lib\\site-packages\\IPython\\core\\interactiveshell.py:282\u001b[0m, in \u001b[0;36m_modified_open\u001b[1;34m(file, *args, **kwargs)\u001b[0m\n\u001b[0;32m    275\u001b[0m \u001b[38;5;28;01mif\u001b[39;00m file \u001b[38;5;129;01min\u001b[39;00m {\u001b[38;5;241m0\u001b[39m, \u001b[38;5;241m1\u001b[39m, \u001b[38;5;241m2\u001b[39m}:\n\u001b[0;32m    276\u001b[0m     \u001b[38;5;28;01mraise\u001b[39;00m \u001b[38;5;167;01mValueError\u001b[39;00m(\n\u001b[0;32m    277\u001b[0m         \u001b[38;5;124mf\u001b[39m\u001b[38;5;124m\"\u001b[39m\u001b[38;5;124mIPython won\u001b[39m\u001b[38;5;124m'\u001b[39m\u001b[38;5;124mt let you open fd=\u001b[39m\u001b[38;5;132;01m{\u001b[39;00mfile\u001b[38;5;132;01m}\u001b[39;00m\u001b[38;5;124m by default \u001b[39m\u001b[38;5;124m\"\u001b[39m\n\u001b[0;32m    278\u001b[0m         \u001b[38;5;124m\"\u001b[39m\u001b[38;5;124mas it is likely to crash IPython. If you know what you are doing, \u001b[39m\u001b[38;5;124m\"\u001b[39m\n\u001b[0;32m    279\u001b[0m         \u001b[38;5;124m\"\u001b[39m\u001b[38;5;124myou can use builtins\u001b[39m\u001b[38;5;124m'\u001b[39m\u001b[38;5;124m open.\u001b[39m\u001b[38;5;124m\"\u001b[39m\n\u001b[0;32m    280\u001b[0m     )\n\u001b[1;32m--> 282\u001b[0m \u001b[38;5;28;01mreturn\u001b[39;00m \u001b[43mio_open\u001b[49m\u001b[43m(\u001b[49m\u001b[43mfile\u001b[49m\u001b[43m,\u001b[49m\u001b[43m \u001b[49m\u001b[38;5;241;43m*\u001b[39;49m\u001b[43margs\u001b[49m\u001b[43m,\u001b[49m\u001b[43m \u001b[49m\u001b[38;5;241;43m*\u001b[39;49m\u001b[38;5;241;43m*\u001b[39;49m\u001b[43mkwargs\u001b[49m\u001b[43m)\u001b[49m\n",
      "\u001b[1;31mFileNotFoundError\u001b[0m: [Errno 2] No such file or directory: 'przekazana_zmienna.txt'"
     ]
    }
   ],
   "source": [
    "# Odczytaj wartość zmiennej z pliku\n",
    "with open('przekazana_zmienna.txt', 'r') as f:\n",
    "    przekazana_zmienna = f.read()\n",
    "\n",
    "# Zapisanie numeru kadencji do zmiennej\n",
    "przekazana_zmienna = int(przekazana_zmienna[-2:]) if przekazana_zmienna[-2].isdigit() else int(przekazana_zmienna[-1])\n",
    "\n",
    "# Usunięcie pliku\n",
    "os.remove('przekazana_zmienna.txt')"
   ]
  },
  {
   "cell_type": "code",
   "execution_count": 51,
   "metadata": {},
   "outputs": [],
   "source": [
    "# Funkcja do zamiany nazwy miesiąca na numer\n",
    "def Months(month):\n",
    "    PL_months=('stycznia', 'lutego', 'marca', 'kwietnia', 'maja', 'czerwca', 'lipca', 'sierpnia', 'września', 'października', 'listopada', 'grudnia')\n",
    "    return PL_months.index(month)+1\n",
    "\n",
    "# Funkcja do konwersji daty na obiekt datetime\n",
    "def duration(data):\n",
    "    data2 = data.split(\" \")\n",
    "    data2[1]=Months(data2[1])\n",
    "    data3=datetime.date(int(data2[2]),data2[1],int(data2[0]))\n",
    "    return(data3)"
   ]
  },
  {
   "cell_type": "code",
   "execution_count": 53,
   "metadata": {},
   "outputs": [
    {
     "name": "stdout",
     "output_type": "stream",
     "text": [
      "[]\n"
     ]
    }
   ],
   "source": [
    "#obsługa linku i wyliczenie czasu\n",
    "def process_link(link):\n",
    "    try:\n",
    "        download2_html = requests.get(link)\n",
    "        soup2 = BeautifulSoup(download2_html.text, 'html.parser')\n",
    "        # obsługa różnego formatu strony w zależności od kadencji\n",
    "        if int(przekazana_zmienna) > 6:\n",
    "            full_table2 = soup2.body.find_all(class_='krok')\n",
    "            full_table3 = soup2.body.find(class_=\"h2\")\n",
    "            tekst = full_table3.get_text()\n",
    "            start = duration(full_table2[0].select_one('span').get_text())\n",
    "            end = duration(full_table2[-2 if \"krok koniec\" in str(full_table2[-1]) else -1].select_one('span').get_text())\n",
    "        else:\n",
    "            full_table2 = soup2.body.find_all(\"b\")\n",
    "            tekst = full_table2[0].text\n",
    "            for tresc in full_table2:\n",
    "                if \" wpłynął \" in tresc.text:\n",
    "                    try:\n",
    "                        start = datetime.datetime.strptime(tresc.text.strip().split(\" \")[1], '%d-%m-%Y')\n",
    "                    except Exception as e:\n",
    "                        print(\"Wystąpił błąd:\", e)\n",
    "                        print(link)\n",
    "                        start = datetime.datetime.strptime(tresc.text.strip().split(\" \")[1][:-2], '%d-%m-%Y')\n",
    "                elif \"podpisał\" in tresc.text:\n",
    "                    end = datetime.datetime.strptime(tresc.text.strip().split(\" \")[1], '%d-%m-%Y')\n",
    "        time = end - start\n",
    "        return [tekst, time.days]\n",
    "    except Exception as e:\n",
    "        print(\"Wystąpił błąd:\", e)\n",
    "        print(link)\n",
    "        return None\n",
    "\n",
    "start_url = f\"https://www.sejm.gov.pl/Sejm9.nsf/agent.xsp?symbol=USTAWYALL&NrKadencji={przekazana_zmienna}&NrPosiedzenia=9999\"\n",
    "download_html = requests.get(start_url)\n",
    "soup = BeautifulSoup(download_html.text, 'html.parser')\n",
    "with open('downloaded.html', 'w', encoding=\"utf-8\") as file:\n",
    "    file.write(soup.prettify())\n",
    "\n",
    "link = soup.find_all(class_='proc')\n",
    "data = []\n",
    "print(link)\n",
    "#wielowątkowosć\n",
    "with ThreadPoolExecutor(max_workers=10) as executor:\n",
    "    results = executor.map(process_link, [item.get(\"href\") for item in link])\n",
    "\n",
    "# Licznik łącznej liczby dni procedowania ustaw\n",
    "total_days = 0\n",
    "\n",
    "\n",
    "for result in results:\n",
    "    if result:\n",
    "        data.append(result)\n",
    "        total_days += result[1] # Dodaj liczbę dni procedowania ustaw do łącznej liczby dni\n",
    "\n",
    "\n",
    "data.sort(key=lambda x: x[1])  # Sortowanie po kolumnie 'Dni'\n",
    "\n",
    "\n",
    "#zapisanie zmiennych jako tabeli\n",
    "\n",
    "df = pd.DataFrame(data, columns=['Nazwa ustawy:', 'Dni'])\n",
    "#usuwanie tymczasowego pliku\n",
    "\n",
    "os.remove(\"downloaded.html\")\n"
   ]
  },
  {
   "cell_type": "code",
   "execution_count": 40,
   "metadata": {},
   "outputs": [],
   "source": [
    "avg_time = total_days // len(df) #średni czas uchwalania ustaw"
   ]
  },
  {
   "cell_type": "code",
   "execution_count": 41,
   "metadata": {},
   "outputs": [
    {
     "data": {
      "image/png": "[encoded data removed]",
      "text/plain": [
       "<Figure size 640x480 with 1 Axes>"
      ]
     },
     "metadata": {},
     "output_type": "display_data"
    }
   ],
   "source": [
    "# Tworzenie histogramu\n",
    "plt.rcParams['font.family'] = 'Lato'\n",
    "plt.hist(df['Dni'], bins=100, color='orange', edgecolor='green')\n",
    "plt.title(f\"Czas trwania procesu legislacyjnego\\n uchwalonych ustaw w {przekazana_zmienna} kadencji Sejmu\", fontsize=20, color=\"orange\")\n",
    "plt.ylabel('Liczba ustaw')\n",
    "plt.xlabel('Dni')\n",
    "\n",
    "# Ustawienie ograniczeń osi x i y\n",
    "longest = df['Dni'].max()\n",
    "plt.xlim(-5, math.ceil(longest / 100.0) * 100 + 1)\n",
    "plt.xticks(range(0, math.ceil(longest / 100.0) * 100 + 1, 100))\n",
    "\n",
    "# Zapisanie wykresu do pliku\n",
    "plt.savefig('wykres.png', bbox_inches='tight')"
   ]
  },
  {
   "cell_type": "code",
   "execution_count": 42,
   "metadata": {},
   "outputs": [],
   "source": [
    "# Sortowanie danych\n",
    "df = df.sort_values(by=['Dni'])\n",
    "longest = df.tail(1).values[0]\n",
    "fastest = df.iloc[0].values"
   ]
  },
  {
   "cell_type": "code",
   "execution_count": 48,
   "metadata": {},
   "outputs": [
    {
     "name": "stderr",
     "output_type": "stream",
     "text": [
      "C:\\Users\\slowa\\AppData\\Local\\Temp\\ipykernel_7872\\2845170063.py:4: DeprecationWarning: The parameter \"ln\" is deprecated since v2.5.2. Instead of ln=True use new_x=XPos.LMARGIN, new_y=YPos.NEXT.\n",
      "  pdf.cell(0, 10, text.upper(), align='C', ln=True)\n"
     ]
    }
   ],
   "source": [
    "def header(text):\n",
    "        pdf.set_text_color(255, 165, 0)\n",
    "        pdf.set_font('Lato', 'B', 20)        \n",
    "        pdf.cell(0, 10, text.upper(), align='C', ln=True)\n",
    "        pdf.set_font('Lato', '', 12)  # Ustawienie niestandardowej czcionki\n",
    "        pdf.set_text_color(0,0,0)\n",
    "\n",
    "\n",
    "# Tworzenie nowego dokumentu PDF\n",
    "pdf = FPDF()\n",
    "pdf.add_page()\n",
    "\n",
    "\n",
    "pdf.add_font('lato', 'B', 'Lato-Bold.ttf')  # Dodanie niestandardowej czcionki\n",
    "pdf.add_font('Lato', '', 'Lato-Regular.ttf')  # Dodanie niestandardowej czcionki\n",
    "pdf.set_font('Lato', '', 12)  # Ustawienie niestandardowej czcionki\n",
    "\n",
    "header(f\"Długość procedowania ustaw w {przekazana_zmienna} kadencji Sejmu\")\n",
    "\n",
    "# Zawartość dokumentu\n",
    "pdf.write(4, f\"\\nŁącznie w tej kadencji Sejmu zostało uchwalonych {len(link)} ustaw.\\n\")\n",
    "pdf.write(4, f\"\\nŚredni czas trwania procesu legislacyjnego wynosi {avg_time} dni.\\n\")\n",
    "pdf.write(4, f\"\\nUstawa, której proces legislacyjny trwał najdłużej to: {longest[0]}, której proces trwał {longest[1]} dni.\\n\")\n",
    "pdf.write(4, f\"\\nUstawa, której proces legislacyjny trwał najszybciej to: {fastest[0]}, której proces trwał {fastest[1]} dni.\\n\")\n",
    "\n",
    "\n",
    "\n",
    "pdf.ln(10)\n",
    "page_width = pdf.w - 2 * pdf.l_margin  #Szerokość strony minus marginesy\n",
    "pdf.image('wykres.png',w=page_width)\n",
    "pdf.add_page()\n",
    "# Nagłówek tabeli\n",
    "header('Tabela ustaw')\n",
    "\n",
    "# Tabela\n",
    "pdf.set_fill_color(255, 165, 0)\n",
    "pdf.cell(170, 10, 'Nazwa ustawy', border=1,align='C',fill=True )  # Szerokość pierwszej kolumny\n",
    "pdf.cell(20, 10, 'Dni', border=1,align='C',fill=True),  # Szerokość drugiej kolumny\n",
    "pdf.ln()\n",
    "\n",
    "# Wypełnienie tabeli danymi z DataFrame\n",
    "for index, row in df.iterrows():\n",
    "\n",
    " # Ustawienie położenia X (poziomego) na 10 jednostek\n",
    "    ybefore = pdf.get_y()\n",
    "    pdf.multi_cell(170, 6, str(row['Nazwa ustawy:']), border=1, align='J')  # Pierwsza kolumna\n",
    "    yafter = pdf.get_y()\n",
    "    if ybefore>yafter:\n",
    "        ybefore=10\n",
    "    pdf.set_xy(180, ybefore)\n",
    "    pdf.cell(20, yafter-ybefore, str(row['Dni']), border=1, align='C')  # Druga kolumna\n",
    "    pdf.set_xy(10, yafter)\n",
    "    \n",
    "# Zapisanie do pliku\n",
    "pdf.output('plik.pdf')"
   ]
  },
  {
   "cell_type": "code",
   "execution_count": 49,
   "metadata": {},
   "outputs": [
    {
     "name": "stdout",
     "output_type": "stream",
     "text": [
      "Plik został zapisany jako: C:/Users/slowa/Downloads/test.pdf\n"
     ]
    }
   ],
   "source": [
    "%run zapis.ipynb"
   ]
  }
 ],
 "metadata": {
  "kernelspec": {
   "display_name": "Python 3",
   "language": "python",
   "name": "python3"
  },
  "language_info": {
   "codemirror_mode": {
    "name": "ipython",
    "version": 3
   },
   "file_extension": ".py",
   "mimetype": "text/x-python",
   "name": "python",
   "nbconvert_exporter": "python",
   "pygments_lexer": "ipython3",
   "version": "3.11.2"
  },
  "orig_nbformat": 4
 },
 "nbformat": 4,
 "nbformat_minor": 2
}
