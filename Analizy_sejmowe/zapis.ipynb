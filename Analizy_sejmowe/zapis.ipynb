{
 "cells": [
  {
   "cell_type": "code",
   "execution_count": 3,
   "metadata": {},
   "outputs": [
    {
     "name": "stdout",
     "output_type": "stream",
     "text": [
      "Plik został zapisany jako: C:/Users/slowa/Desktop/test.pdf\n"
     ]
    }
   ],
   "source": [
    "import os\n",
    "import shutil\n",
    "import tkinter as tk\n",
    "from tkinter import filedialog\n",
    "import subprocess\n",
    "import platform\n",
    "\n",
    "system = platform.system()\n",
    "\n",
    "def save_pdf():\n",
    "    system = platform.system()\n",
    "    root = tk.Tk()\n",
    "    root.attributes('-topmost', True)  # Ustawienie okna na wierzchu\n",
    "    root.withdraw()  # Ukryj główne okno\n",
    "    file_path = filedialog.asksaveasfilename(defaultextension=\".pdf\", filetypes=[(\"PDF files\", \"*.pdf\")], parent=root)\n",
    "    root.attributes('-topmost', False)  # Przywróć normalne ustawienia okna\n",
    "    if file_path:\n",
    "        try:\n",
    "            shutil.copy(\"plik.pdf\", file_path)\n",
    "            print(\"Plik został zapisany jako:\", file_path)            \n",
    "            # Otwieranie pliku po zapisaniu\n",
    "            if system==\"Linux\":\n",
    "                subprocess.Popen([\"xdg-open\", file_path])  # Dla systemów Linux\n",
    "            elif system==\"Darwin\":\n",
    "                subprocess.Popen([\"open\", file_path])  # Dla systemu MacOS\n",
    "            elif system==\"Windows\":\n",
    "                subprocess.Popen([\"start\", \"\", file_path], shell=True)  # Dla systemu Windows\n",
    "        except FileNotFoundError:\n",
    "            print(\"Plik 'plik.pdf' nie został znaleziony.\")\n",
    "        except Exception as e:\n",
    "            print(\"Wystąpił błąd podczas otwierania pliku:\", e)\n",
    "\n",
    "save_pdf()\n",
    "os.remove('plik.pdf')"
   ]
  }
 ],
 "metadata": {
  "kernelspec": {
   "display_name": "Python 3",
   "language": "python",
   "name": "python3"
  },
  "language_info": {
   "codemirror_mode": {
    "name": "ipython",
    "version": 3
   },
   "file_extension": ".py",
   "mimetype": "text/x-python",
   "name": "python",
   "nbconvert_exporter": "python",
   "pygments_lexer": "ipython3",
   "version": "3.11.2"
  }
 },
 "nbformat": 4,
 "nbformat_minor": 2
}
